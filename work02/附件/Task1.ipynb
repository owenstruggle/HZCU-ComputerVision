{
 "cells": [
  {
   "cell_type": "code",
   "execution_count": 1,
   "metadata": {},
   "outputs": [],
   "source": [
    "from PIL import Image\n",
    "import torchvision.transforms as transforms\n",
    "#图像反转 \n",
    "image = Image.open(\"image/imgGray.jpg\").convert(\"L\") #读入原始图像\n",
    "image = transforms.ToTensor()(image)\n",
    "img = transforms.ToPILImage()(1-image)\n",
    "img.show()\n",
    "img.save(\"image/imgGrayTran.jpg\")"
   ]
  },
  {
   "cell_type": "code",
   "execution_count": 2,
   "metadata": {},
   "outputs": [
    {
     "data": {
      "text/plain": [
       "-1"
      ]
     },
     "execution_count": 2,
     "metadata": {},
     "output_type": "execute_result"
    }
   ],
   "source": [
    "import cv2\n",
    "import copy\n",
    "\n",
    "gray = cv2.imread('image\\\\imgGray.jpg',1) #读入原始图像\n",
    "cover=copy.deepcopy(gray)\n",
    "#图像反转\n",
    "rows=gray.shape[0]\n",
    "cols=gray.shape[1]\n",
    "for i in range(rows):\n",
    "    for j in range(cols):\n",
    "        cover[i][j]=255-cover[i][j]\n",
    "\n",
    "cv2.imshow('gray',gray)\n",
    "cv2.imshow('cover',cover)\n",
    "cv2.imwrite('image\\\\imgGrayTran.jpg',cover)\n",
    "cv2.waitKey(0)\n"
   ]
  },
  {
   "cell_type": "code",
   "execution_count": 5,
   "metadata": {},
   "outputs": [
    {
     "data": {
      "image/png": "[encoded data removed]",
      "text/plain": [
       "<Figure size 640x480 with 1 Axes>"
      ]
     },
     "metadata": {},
     "output_type": "display_data"
    }
   ],
   "source": [
    "\n",
    "import numpy as np\n",
    "import matplotlib.pyplot as plt\n",
    "import cv2\n",
    "\n",
    "#绘制曲线\n",
    "def log_plot(c):\n",
    "    x = np.arange(0, 256, 0.01)\n",
    "    y = c * np.log(1 + x)\n",
    "    plt.plot(x, y, 'r', linewidth=1)\n",
    "    plt.rcParams['font.sans-serif']=['SimHei'] #设置字体以正常显示\n",
    "    plt.title(u'对数变换函数')\n",
    "    plt.xlim(0, 255), plt.ylim(0, 255)\n",
    "    plt.savefig('image/对数变换函数.jpg')\n",
    "    plt.show()\n",
    "\n",
    "#对数变换\n",
    "def log(c, img):\n",
    "    output = c * np.log(1.0 + img)\n",
    "    output = np.uint8(output + 0.5)\n",
    "    return output\n",
    "\n",
    "img = cv2.imread('image\\\\imgGray.jpg') #读取原始图像\n",
    "log_plot(42)#绘制对数变换曲线\n",
    "output = log(42, img)#图像灰度对数变换\n",
    "\n",
    "cv2.imshow('Input', img)\n",
    "cv2.imshow('Output', output)\n",
    "cv2.imwrite('image\\\\Log_transImage.jpg',output)\n",
    "cv2.waitKey(0)\n",
    "cv2.destroyAllWindows()"
   ]
  },
  {
   "cell_type": "code",
   "execution_count": 4,
   "metadata": {},
   "outputs": [
    {
     "data": {
      "text/plain": [
       "-1"
      ]
     },
     "execution_count": 4,
     "metadata": {},
     "output_type": "execute_result"
    }
   ],
   "source": [
    "import cv2\n",
    "import copy\n",
    "\n",
    "gray = cv2.imread('image\\\\imgGray.jpg',1) #读入原始图像\n",
    "gamma=copy.deepcopy(gray)\n",
    "\n",
    "#伽马变换\n",
    "rows=gray.shape[0]\n",
    "cols=gray.shape[1]\n",
    "for i in range(rows):\n",
    "    for j in range(cols):\n",
    "        gamma[i][j]=3*pow(gamma[i][j],0.8)\n",
    "\n",
    "cv2.imshow('img',gray)\n",
    "cv2.imshow('gamma',gamma)\n",
    "cv2.imwrite('image\\\\imgGrayGamma.jpg',gamma)\n",
    "cv2.waitKey(0)"
   ]
  }
 ],
 "metadata": {
  "kernelspec": {
   "display_name": "Python 3",
   "language": "python",
   "name": "python3"
  },
  "language_info": {
   "codemirror_mode": {
    "name": "ipython",
    "version": 3
   },
   "file_extension": ".py",
   "mimetype": "text/x-python",
   "name": "python",
   "nbconvert_exporter": "python",
   "pygments_lexer": "ipython3",
   "version": "3.8.6"
  },
  "orig_nbformat": 4
 },
 "nbformat": 4,
 "nbformat_minor": 2
}
